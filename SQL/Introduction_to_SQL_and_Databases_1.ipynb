{
  "cells": [
    {
      "cell_type": "markdown",
      "metadata": {},
      "source": [
        "# Introduction to SQL and Databases"
      ]
    },
    {
      "cell_type": "markdown",
      "metadata": {},
      "source": [
        "## Useful Links\n",
        "- [What is Database?](https://www.geeksforgeeks.org/what-is-database/)\n",
        "- [Types of Databases: Relational, NoSQL, Cloud, Vector](https://www.datacamp.com/blog/types-of-databases-overview)\n",
        "- [What’s the Difference Between an ACID and a BASE Database?](https://aws.amazon.com/compare/the-difference-between-acid-and-base-database/?nc1=h_ls)\n",
        "- [SQLite](https://en.wikipedia.org/wiki/SQLite)\n",
        "- [SQLite Tutorial](https://www.sqlitetutorial.net/)\n",
        "- [Introduction to SQL JOINs](https://ugoproto.github.io/ugodoc/introduction_to_sql_joins/)\n",
        "- [How to Work with SQLite in Python – A Handbook for Beginners](https://www.freecodecamp.org/news/work-with-sqlite-in-python-handbook)\n",
        "- [Python SQLite](https://www.geeksforgeeks.org/python-sqlite/)\n",
        "- [leetcode](https://leetcode.com/problemset/all-code-essentials/)\n",
        "- [All SQL Crash Course Lessons](https://sqlcrashcourse.com/lessons/)\n",
        "- [Neo4j academy](https://graphacademy.neo4j.com/categories/beginners/)\n",
        "\n",
        "\n"
      ]
    },
    {
      "cell_type": "markdown",
      "metadata": {},
      "source": [
        "## Introduction"
      ]
    },
    {
      "cell_type": "markdown",
      "metadata": {},
      "source": [
        "### Understanding Databases\n",
        "A <em>**database**</em> is an organized collection of data, that can include text, numbers, images, videos, and other types of files, typically stored electronically. Databases are managed using a software called <em>**Database Management System** (DBMS)</em>, which allows users to store, retrieve, and manipulate data. Databases are the backbone of modern applications, supporting businesses, organizations, and systems across industries. Most of the applications that we use everyday (like WhatsApp, Gmail, Social Media Websites, etc.) have a database that stores user, transaction and all other required information."
      ]
    },
    {
      "cell_type": "markdown",
      "metadata": {},
      "source": [
        "### Key components of a Database\n",
        "- **Data -** The information stored in a database, like numbers, text, images, videos, or documents, depending\n",
        "  on the database’s purpose.\n",
        "- **Schema -** The structure of the database. It defines how data is organized and includes details like tables, columns, data types, and relationships between entities. The schema ensures consistency and helps users understand how the database is designed.\n",
        "- **DBMS **<em>(Database Management System)</em>** -** The software layer that enables interaction with the database. It manages the storage, retrieval, and manipulation of data while ensuring security and data integrity. The DBMS also handles tasks like backup, recovery, and query optimization to maintain the database’s performance. Examples of DBMS software include MySQL, PostgreSQL, Neo4j, and MongoDB.\n",
        "- **Queries -** Commands used to interact with the database, allowing users to retrieve, manipulate, or update\n",
        "  data. In relational databases, **SQL** <em>(Structured Query Language)</em> is commonly used, whereas Neo4j uses **Cypher** for querying graph data.\n",
        "- **Users -** Individuals or applications that interact with the database. They can have different levels of access based on their roles, such as administrators, developers, or end-users. For example, a database administrator might have full control, including the ability to create or delete tables, while a regular user might only have permission to view specific data."
      ]
    },
    {
      "cell_type": "markdown",
      "metadata": {},
      "source": [
        "### Examples of types of Databases\n",
        "\n",
        "Different types of databases exist to meet diverse use-case needs, driven by variations in data structure, access patterns, scalability, and consistency requirements. Relational databases are ideal for structured data with predefined schemas, common in traditional business applications. The rise of big data and real-time analytics exposed limitations of relational databases, leading to NoSQL databases, which offer flexibility and scalability for unstructured or semi-structured data. More recently, vector databases have emerged to support machine learning applications by efficiently handling high-dimensional vector data used in similarity searches.\n",
        "\n",
        "- **Relational Databases -** Store data in **structured tables** with rows and columns. Accessing structured data is made most flexible and efficient by relational database technology. Examples: MySQL, PostgreSQL, Oracle, Microsoft SQL Server. (RDBMS)\n",
        "- **NoSQL Databases** <em>(Not Only SQL)</em> **-** Designed to handle unstructured and **semi-structured data**. Examples: MongoDB, Cassandra, DynamoDB. \n",
        "    - **Graph Databases -** Focus on the relationships between data objects. They use **nodes** to represent data entities and **edges** to define relationships between them, enabling efficient traversal and retrieval of complex interconnected data. They excels at handling complex relationships, making them ideal for use cases such as social networks, recommendation systems, and network analysis. Examples: Neo4j, Amazon Neptune, Ultipa.\n",
        "    - **Vector Databases -** Designed to store, index, and manage vector **embeddings**, which are high-dimensional data representations often used in machine learning models. These db enables fast similarity search, allowing efficient identification of vectors that are \"close\" to a given query vector using distance metrics like cosine similarity or Euclidean distance. This makes them suitable for tasks as image recognition, recommendation systems, and natural language processing. They utilize indexing structures that optimize the retrieval of similar vectors based on distance metrics. Examples: Faiss, Milvus, Qdrant, chroma."
      ]
    },
    {
      "cell_type": "markdown",
      "metadata": {},
      "source": [
        "### Structured query language (SQL)\n",
        "To interact with relational databases, we use <em>**Structured Query Language** (SQL)</em>. This powerful language enables us to query, insert, update, and delete data, as well as perform complex operations like joining data from multiple tables. SQL's structured nature ensures data integrity and consistency through **ACID** properties:\n",
        "- **Atomicity -** All operations within a transaction are treated as a single unit, ensuring that either all changes are committed or none are.\n",
        "- **Consistency -** Data remains in a valid state throughout a transaction, adhering to predefined constraints and rules.\n",
        "- **Isolation -** Transactions are executed independently as if they were the only operation happening on the database.\n",
        "- **Durability -** Once a transaction is committed, its changes are permanent, even in the event of system failures.\n",
        "\n",
        "#### What’s the difference between an ACID and a BASE database? \n",
        "\n",
        "\n",
        "**ACID** and **BASE** are database transaction models that determine how a database organizes and manipulates data. In the context of databases, a **transaction** is any operation that the database considers a single unit of work. A transaction must complete fully for the database to remain consistent. For example, when you transfer money from one bank account to another, the money must leave your account and must be added to the third-party account. You cannot call the transaction complete without both steps occurring. \n",
        "\n",
        "**ACID** databases prioritize consistency over availability—the whole transaction fails if an error occurs in any step within the transaction. In contrast, **BASE** databases prioritize availability over consistency. Instead of failing the transaction, users can access inconsistent data temporarily. Data consistency is achieved, but not immediately. Examples of **ACID** databases are MySQL, PostgreSQL, Neo4j and MongoDB, wherease of **BASE** Elasticsearch.\n"
      ]
    },
    {
      "cell_type": "markdown",
      "metadata": {},
      "source": [
        "## Hands on SQLite\n",
        "\n",
        "A SQL database, also known as a relational database, is a system that stores and organizes data into highly structured\n",
        "tables of rows and columns. These databases offer Structured Query Language (SQL) to read and write the data, and are\n",
        "categorized as relational database management systems (RDBMS). Examples of relational database are MySQL, PostgreSQL."
      ]
    },
    {
      "cell_type": "markdown",
      "metadata": {},
      "source": [
        "### SQLite\n",
        "\n",
        "**SQLite** is a free and open-source relational database engine written in the C programming language. It is not a standalone app; rather, it is a library that software developers embed in their apps. It is used by several of the top web browsers, operating systems, mobile phones, and other embedded systems.\n",
        "\n",
        "Why Use SQLite to start? \n",
        "- **Open-source** software, it does not require any license after installation.\n",
        "- **Serverless**, it doesn't need a different server process or system to operate.\n",
        "- **Cross-platform** DBMS that can run on all platforms, including macOS, Windows, etc."
      ]
    },
    {
      "cell_type": "markdown",
      "metadata": {},
      "source": [
        "### Part 1: Getting Started with SQLite\n",
        "Basic concepts, creating your first table, and understanding data types."
      ]
    },
    {
      "cell_type": "markdown",
      "metadata": {},
      "source": [
        "#### How to Create Database Tables\n",
        "A table is where we’ll store our data, organized in rows (records) and columns (attributes). For this example, we’ll\n",
        "create a table called `Students` to store information about students.\n",
        "\n",
        "To create a table, we use SQL's `CREATE TABLE` statement. This command defines the table structure, including the column\n",
        "names and the data types for each column.\n",
        "\n",
        "SQL command to create a `Students` table with the following fields:\n",
        "- `id`: A unique identifier for each student (an integer).\n",
        "- `name`: The student's name (text).\n",
        "- `age`: The student's age (an integer).\n",
        "- `email`: The student's email address (text).\n",
        "\n",
        "Column `id` rapresents a `PRIMARY KEY` for the table `Student`. The `PRIMARY KEY` constraint uniquely identifies each record in a table. A table can have only ONE primary key; and in the table, this primary key can consist of single or multiple columns (fields).\n",
        "\n",
        "```sql\n",
        "CREATE TABLE Students (\n",
        "  id INTEGER PRIMARY KEY AUTOINCREMENT,\n",
        "  name TEXT NOT NULL,\n",
        "  age INTEGER,\n",
        "  email TEXT\n",
        ");\n",
        "```\n",
        "To prevent errors when a table already exists, `IF NOT EXISTS` ensures that it is only created if it hasn’t been defined\n",
        "before.\n",
        "\n",
        "~~~~sql\n",
        "CREATE TABLE IF NOT EXISTS Students (\n",
        "  id INTEGER PRIMARY KEY AUTOINCREMENT,\n",
        "  name TEXT NOT NULL,\n",
        "  age INTEGER,\n",
        "  email TEXT\n",
        ");\n",
        "~~~~\n",
        "> 📝 **To do:** Create Students table"
      ]
    },
    {
      "cell_type": "markdown",
      "metadata": {},
      "source": [
        "#### How to Insert Data into a Table\n",
        "Now that we have our `Students` table created, it’s time to start inserting data into the database."
      ]
    },
    {
      "cell_type": "markdown",
      "metadata": {},
      "source": [
        "##### How to Insert a Single Record\n",
        "\n",
        "SQL syntax for inserting a single record:\n",
        "\n",
        "~~~sql\n",
        "INSERT INTO Students (name, age, email)\n",
        "VALUES ('John Doe', 20, 'johndoe@example.com');\n",
        "~~~~\n",
        "\n",
        "> 📝 **To do:** Insert the record representing yourself"
      ]
    },
    {
      "cell_type": "markdown",
      "metadata": {},
      "source": [
        "##### How to Insert Multiple Records\n",
        "\n",
        "SQL syntax for inserting multiple records:\n",
        "\n",
        "~~~sql\n",
        "INSERT INTO Students (name, age, email)\n",
        "    VALUES\n",
        "      ('Bahadurjit Sabharwal', 18, 'tristanupadhyay@example.net'),\n",
        "      ('Zayyan Arya', 20, 'yashawinibhakta@example.org'),\n",
        "      ('Hemani Shukla', 18, 'gaurikanarula@example.com');\n",
        "~~~~\n",
        "\n",
        "> 📝 **To do:** Insert records representing a couple of your colleagues"
      ]
    },
    {
      "cell_type": "markdown",
      "metadata": {},
      "source": [
        "#### How to Select Data from a Table\n",
        "\n",
        "We often use the `SELECT` statement to query data from one or more tables.\n",
        "\n",
        "To select all the rows in a table:\n",
        "\n",
        "~~~sql\n",
        "SELECT *\n",
        "FROM Students;\n",
        "~~~~\n",
        "\n",
        "To select a column from a table tha satisfies a condition:\n",
        "~~~sql\n",
        "SELECT name\n",
        "FROM Students\n",
        "WHERE age > 18;\n",
        "~~~~\n",
        "\n",
        "> 📝 **To do:** Select yourself and your desk mate"
      ]
    },
    {
      "cell_type": "markdown",
      "metadata": {},
      "source": [
        "#### How to Update Data in a Table\n",
        "\n",
        "To update existing data in a table, you use SQLite `UPDATE` statement. \n",
        "\n",
        "```sql\n",
        "UPDATE Student\n",
        "SET email = 'johndoe@exampleupdate.com'\n",
        "WHERE\n",
        "    name LIKE 'John Doe';\n",
        "```\n",
        "\n",
        "In this syntax:\n",
        "- First, specify the table where you want to update after the `UPDATE` clause.\n",
        "- Second, set new value for each column of the table in the `SET` clause.\n",
        "- Third, specify rows to update using a condition in the `WHERE` clause. The `WHERE` clause is optional. If you skip it, the `UPDATE` statement will update data in all rows of the table.\n",
        "\n",
        "> 📝 **To do:** Update the records representing yourself"
      ]
    },
    {
      "cell_type": "markdown",
      "metadata": {},
      "source": [
        "#### How to Delete Data from a Table\n",
        "\n",
        "The SQLite `DELETE` statement allows you to delete one row, multiple rows, and all rows in a table.\n",
        "\n",
        "~~~sql\n",
        "DELETE FROM Student\n",
        "WHERE name LIKE 'John Doe';\n",
        "~~~\n",
        "\n",
        "In this syntax:\n",
        "- First, specify the name of the table which you want to remove rows after the `DELETE FROM` keywords.\n",
        "- Second, add a search condition in the `WHERE` clause to identify the rows to remove. The `WHERE` clause is an optional part of the `DELETE` statement. If you omit the `WHERE` clause, the `DELETE` statement will delete all rows in the table.\n",
        "\n",
        "> 📝 **To do:** Delete the records representing yourself"
      ]
    },
    {
      "cell_type": "markdown",
      "metadata": {},
      "source": [
        "#### How to Drop Database Tables\n",
        "\n",
        "To remove a table in a database, you use SQL `DROP TABLE` statement. \n",
        "\n",
        "```sql\n",
        "DROP TABLE Students;\n",
        "```\n",
        "If you remove a non-existing table, SQLite issues an error. If you use `IF EXISTS` option, then SQLite removes the table only if the table exists, otherwise, it just ignores the statement and does nothing.\n",
        "\n",
        "~~~sql\n",
        "DROP TABLE IF EXISTS Students;\n",
        "~~~\n",
        "\n",
        "The `DROP TABLE` statement performs an implicit `DELETE` statement before dropping the table.\n",
        "\n",
        "> 📝 **To do:** Drop Student table"
      ]
    },
    {
      "cell_type": "markdown",
      "metadata": {},
      "source": [
        "### Part 2: Working with Multiple Tables – Students and Courses\n",
        "Creating related tables, inserting data, and modeling real-world relationships."
      ]
    },
    {
      "cell_type": "markdown",
      "metadata": {},
      "source": [
        "> 📝 **To do:** Create `Courses` table with the following fields:\n",
        "> - `id`: unique identifier\n",
        "> - `name`: name of the course\n",
        "> - `description`: description of the course "
      ]
    },
    {
      "cell_type": "markdown",
      "metadata": {},
      "source": [
        "> 📝 **To do:** Create `Enrollments` table with the following fields:\n",
        "> - `student_id`: unique identifier for a student, referencing the Students table.\n",
        "> - `course_id`: unique identifier for a course, referencing the Courses table.\n",
        "> - `enrollment_date`: date when the student enrolled in the course.\n",
        "\n",
        "```sql\n",
        "PRIMARY KEY (student_id, course_id),\n",
        "FOREIGN KEY (student_id) REFERENCES Students(id),\n",
        "FOREIGN KEY (course_id) REFERENCES Courses(id)\n",
        "```\n",
        "\n",
        "- `PRIMARY KEY`: A composite primary key made up of `student_id` and `course_id`, ensuring each student-course pair is unique.\n",
        "- `FOREIGN KEY` (student_id): Ensures that `student_id` exists in the Students table.\n",
        "- `FOREIGN KEY` (course_id): Ensures that `course_id` exists in the Courses table."
      ]
    },
    {
      "cell_type": "markdown",
      "metadata": {},
      "source": [
        "> 📝 **To do:** Insert some Data inside the tables\n",
        "> - Insert data for courses you have taken\n",
        "> - For courses you will take (i.e., not yet enrolled), don’t insert it in `enrollments` table"
      ]
    },
    {
      "cell_type": "markdown",
      "metadata": {},
      "source": [
        "### ER diagram notation\n",
        "\n",
        "An <em>**Entity Relationship** (ER) **Diagram**</em> is a type of flowchart that illustrates how “entities” such as people, objects or concepts relate to each other within a system. ER Diagrams are used to design relational databases"
      ]
    },
    {
      "cell_type": "markdown",
      "metadata": {},
      "source": [
        "![students_courses_db_er](img/students_courses_db_er.png)"
      ]
    },
    {
      "cell_type": "markdown",
      "metadata": {},
      "source": [
        "![er_relations.png](img/er_relations.png)"
      ]
    },
    {
      "cell_type": "markdown",
      "metadata": {},
      "source": [
        "> 📝 **To do:** Query tables\n",
        "> - Find all students who are enrolled in at least one course.\n",
        "> - How Many Courses is Each Student Enrolled In?\n",
        "> - Shows only students who are enrolled in more than one course\n",
        "> - Find all courses that have at least one student enrolled\n",
        "> - How Many Students per Course?\n",
        "> - Show each student, the course they're enrolled in, and when they enrolled.\n",
        ">   "
      ]
    },
    {
      "cell_type": "markdown",
      "metadata": {},
      "source": [
        "### Part 3: Querying Data – Exploring with SELECT and JOIN\n",
        "Learn how to retrieve meaningful information using SELECT, WHERE, and JOIN statements.\n"
      ]
    },
    {
      "cell_type": "markdown",
      "metadata": {},
      "source": [
        "### SQL JOIN\n",
        "\n",
        "![img.png](img/img.png)"
      ]
    },
    {
      "cell_type": "markdown",
      "metadata": {},
      "source": [
        "## Chinnok database\n",
        "\n"
      ]
    },
    {
      "cell_type": "markdown",
      "metadata": {},
      "source": [
        "### ER diagram notation\n",
        "\n",
        "An <em>**Entity Relationship** (ER) **Diagram**</em> is a type of flowchart that illustrates how “entities” such as people, objects or concepts relate to each other within a system. ER Diagrams are used to design relational databases\n",
        "\n",
        "![Chinook_er.png](img/Chinook_er.png)\n"
      ]
    },
    {
      "cell_type": "markdown",
      "metadata": {},
      "source": [
        "![er_relations.png](img/er_relations.png)"
      ]
    },
    {
      "cell_type": "markdown",
      "metadata": {},
      "source": [
        "The **Chinook** sample database contains 11 tables, as follows:\n",
        "\n",
        "- `employees` table stores employee data such as id, last name, first name, etc. It also has a field named `ReportsTo` to specify who reports to whom.\n",
        "- customers `table` stores customer data.\n",
        "- `invoices` & `invoice_items` tables: these two tables store invoice data. The `invoices` table stores invoice header data and the `invoice_items` table stores the invoice line items data.\n",
        "- `artists` table stores artist data. It is a simple table that contains the id and name.\n",
        "- `albums` table stores data about a list of tracks. Each album belongs to one artist, but an artist may have multiple albums.\n",
        "- `media_types` table stores media types such as MPEG audio and AAC audio files.\n",
        "- `genres` table stores music types such as rock, jazz, metal, etc.\n",
        "- `tracks` table stores the data of songs. Each track belongs to one album.\n",
        "- `playlists` & `playlist_track` tables: `playlists` table stores data about playlists. Each playlist contains a list of tracks. Each track may belong to multiple playlists. The relationship between the `playlists` and `tracks` tables is many-to-many. The `playlist_track` table is used to reflect this relationship."
      ]
    },
    {
      "cell_type": "markdown",
      "metadata": {},
      "source": [
        "🟢 Beginner\n",
        "\n",
        "List all customers from Canada.\n",
        "- Tables: Customer\n",
        "- Concepts: SELECT, WHERE\n",
        "- **Returns:** First and last names of all Canadian customers.\n",
        "\n",
        "\n",
        "Find all albums by the artist \"AC/DC\".\n",
        "- Tables: Artist, Album\n",
        "- Concepts: JOIN, WHERE\n",
        "- **Returns:** Album titles associated with \"AC/DC\".\n",
        "\n",
        "List the names of all tracks that are longer than 5 minutes.\n",
        "- Tables: Track\n",
        "- Concepts: WHERE, time filtering\n",
        "- **Returns:** Track names where duration exceeds 5 minutes.\n",
        "\n",
        "🟡 Intermediate\n",
        "\n",
        "Which genres have the most tracks?\n",
        "- Tables: Genre, Track\n",
        "- Concepts: JOIN, GROUP BY, ORDER BY, COUNT\n",
        "- **Returns:** A list of genres with the number of tracks in each, sorted by track count.\n",
        "\n",
        "Who are the top 5 customers by total money spent?\n",
        "- Tables: Customer, Invoice, InvoiceLine\n",
        "- Concepts: JOIN, GROUP BY, SUM, LIMIT\n",
        "- **Returns:** Customers and how much they’ve spent, top 5 only.\n",
        "\n",
        "List the top 3 employees who support the most customers.\n",
        "- Tables: Employee, Customer\n",
        "- Concepts: JOIN, GROUP BY, COUNT\n",
        "- **Returns:** Employee names and number of customers they support.\n",
        "\n",
        "Which albums have tracks from more than one genre?\n",
        "- Tables: Album, Track, Genre\n",
        "- Concepts: GROUP BY, HAVING, COUNT(DISTINCT)\n",
        "- **Returns:** Album titles that include tracks from multiple genres.\n",
        "\n",
        "🔴 Advanced\n",
        "\n",
        "Find the most popular playlist (with the most tracks).\n",
        "- Tables: Playlist, PlaylistTrack\n",
        "- Concepts: JOIN, GROUP BY, COUNT, ORDER BY, LIMIT\n",
        "- **Returns:** The playlist name and the number of tracks it contains.\n",
        "\n",
        "For each country, what is the average invoice total?\n",
        "- Tables: Invoice, Customer\n",
        "- Concepts: JOIN, GROUP BY, AVG\n",
        "- **Returns:** Each country with its average invoice total.\n",
        "\n",
        "\n",
        "Which artist has generated the most revenue?\n",
        "- Tables: Artist, Album, Track, InvoiceLine\n",
        "- Concepts: multi-table JOIN, SUM, GROUP BY\n",
        "- **Returns:** The artist name with the highest total sales revenue.\n",
        "\n",
        "Find customers who have purchased from every genre.\n",
        "- Concepts: HAVING, COUNT(DISTINCT), subqueries or NOT EXISTS\n",
        "- **Returns:** Customers who have at least one purchase in *every* genre in the database.\n",
        "\n",
        "\n",
        "**Note:** These questions were generated with the help of ChatGPT."
      ]
    },
    {
      "cell_type": "markdown",
      "metadata": {},
      "source": [
        "## 🔴 Pro-Level SQL Questions for Chinook Database\n",
        "\n",
        "### 🔴 Question 1: Customers Who Purchased More Than the Average Invoice Amount\n",
        "\n",
        "**🧠 The Question**\n",
        "Find the customers who have spent more than the average invoice total. Show `FirstName`, `LastName`, and `TotalSpent` for each customer.\n",
        "\n",
        "**📚 The Tables Involved**\n",
        "- `Customer`\n",
        "- `Invoice`\n",
        "- `InvoiceLine`\n",
        "\n",
        "**🔧 The SQL Concepts**\n",
        "- **JOIN**  \n",
        "- **GROUP BY**  \n",
        "- **HAVING**  \n",
        "- **SUBQUERY** or **AVG()**\n",
        "\n",
        "**📥 What the Query Will Return**\n",
        "- A list of customers who have spent more than the average total amount across all invoices.\n",
        "- It will include `FirstName`, `LastName`, and the total amount they’ve spent (`TotalSpent`).\n",
        "\n",
        "### 🔴 Question 2: Artists with Tracks Sold in Multiple Countries\n",
        "\n",
        "**🧠 The Question**\n",
        "List the artists who have sold tracks in more than one country. Show `ArtistName` and the number of distinct countries they’ve sold their tracks in.\n",
        "\n",
        "**📚 The Tables Involved**\n",
        "- `Artist`\n",
        "- `Album`\n",
        "- `Track`\n",
        "- `InvoiceLine`\n",
        "- `Invoice`\n",
        "- `Customer`\n",
        "\n",
        "**🔧 The SQL Concepts**\n",
        "- **JOIN** (multi-table join)  \n",
        "- **COUNT(DISTINCT)**  \n",
        "- **GROUP BY**  \n",
        "- **HAVING**\n",
        "\n",
        "**📥 What the Query Will Return**\n",
        "- A list of artists who have sold tracks in more than one country.\n",
        "- It will display the `ArtistName` and the number of distinct countries where their tracks have been sold.\n",
        "\n",
        "\n",
        "### 🔴 Question 3: The Most Purchased Tracks in a Given Time Period\n",
        "\n",
        "**🧠 The Question**\n",
        "Find the top 10 most purchased tracks in the past month. Show `TrackName`, the number of times it was purchased (`PurchaseCount`), and its `UnitPrice`.\n",
        "\n",
        "**📚 The Tables Involved**\n",
        "- `Track`\n",
        "- `InvoiceLine`\n",
        "- `Invoice`\n",
        "\n",
        "**🔧 The SQL Concepts**\n",
        "- **JOIN**  \n",
        "- **GROUP BY**  \n",
        "- **COUNT**  \n",
        "- **DATE filtering (using `strftime()` or `WHERE`)**  \n",
        "- **ORDER BY**\n",
        "\n",
        "**📥 What the Query Will Return**\n",
        "- A list of the top 10 tracks purchased in the past month, including:\n",
        "  - The `TrackName`\n",
        "  - The number of times it was purchased (`PurchaseCount`)\n",
        "  - The `UnitPrice` of the track\n",
        "\n",
        "\n",
        "### 🔴 Question 4: Calculate Revenue by Genre Over Time\n",
        "\n",
        "**🧠 The Question**\n",
        "For each genre, calculate the total revenue generated each month in the last year. Show `GenreName`, `Month`, and `Revenue` (total revenue for that month).\n",
        "\n",
        "**📚 The Tables Involved**\n",
        "- `Genre`\n",
        "- `Track`\n",
        "- `InvoiceLine`\n",
        "- `Invoice`\n",
        "\n",
        "**🔧 The SQL Concepts**\n",
        "- **JOIN**  \n",
        "- **GROUP BY**  \n",
        "- **SUM()**  \n",
        "- **DATE formatting and extraction (`strftime()` or `MONTH()`)**  \n",
        "- **HAVING**\n",
        "\n",
        "**📥 What the Query Will Return**\n",
        "- A list showing the total revenue (`Revenue`) for each genre, split by month for the last year.\n",
        "- The results will include the `GenreName`, the `Month`, and the `Revenue` for each genre in that month.\n",
        "\n",
        "\n",
        "\n",
        "**Note:** These questions were generated with the help of ChatGPT."
      ]
    },
    {
      "cell_type": "markdown",
      "metadata": {},
      "source": []
    }
  ],
  "metadata": {
    "colab": {
      "provenance": []
    },
    "kernelspec": {
      "display_name": "Python 3",
      "name": "python3"
    },
    "language_info": {
      "name": "python"
    }
  },
  "nbformat": 4,
  "nbformat_minor": 0
}
