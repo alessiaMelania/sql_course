{
  "cells": [
    {
      "cell_type": "markdown",
      "metadata": {},
      "source": [
        "## Useful Links\n",
        "\n",
        "- [How to Work with SQLite in Python – A Handbook for Beginners](https://www.freecodecamp.org/news/work-with-sqlite-in-python-handbook)\n",
        "- [Python SQLite](https://www.geeksforgeeks.org/python-sqlite/)\n",
        "- [sqlite3 documentation](https://docs.python.org/3/library/sqlite3.html#sqlite3.Connection)"
      ]
    },
    {
      "cell_type": "markdown",
      "metadata": {},
      "source": [
        "## Hands on SQLite with Python"
      ]
    },
    {
      "cell_type": "markdown",
      "metadata": {},
      "source": [
        "### How to Create Database Tables\n"
      ]
    },
    {
      "cell_type": "markdown",
      "metadata": {},
      "source": [
        "### How to Insert Data into a Table\n",
        "Now that we have our Students table created, it’s time to start inserting data into the database.\n"
      ]
    },
    {
      "cell_type": "markdown",
      "metadata": {},
      "source": [
        "#### How to Insert a Single Record\n",
        "\n",
        "SQL syntax for inserting a single record:\n",
        "\n",
        "~~~~sql\n",
        "INSERT INTO Students (name, age, email)\n",
        "VALUES ('John Doe', 20, 'johndoe@example.com');\n",
        "~~~~\n"
      ]
    },
    {
      "cell_type": "markdown",
      "metadata": {},
      "source": [
        "Programmatically\n",
        "\n",
        "~~~~python\n",
        "import sqlite3\n",
        "\n",
        "# Use 'with' to open and close the connection automatically\n",
        "with sqlite3.connect('my_database.db') as connection:\n",
        "    cursor = connection.cursor()\n",
        "\n",
        "    # Insert a record into the Students table\n",
        "    query = \"\"\"\n",
        "        INSERT INTO Students (name, age, email)\n",
        "        VALUES (?, ?, ?);\n",
        "    \"\"\"\n",
        "\n",
        "    value = ('Jane Doe', 23, 'jane@example.com')\n",
        "\n",
        "    cursor.execute(query, value)\n",
        "\n",
        "    # Commit the changes automatically\n",
        "    connection.commit()\n",
        "~~~~\n",
        "The ? placeholders represent the values to be inserted into the table.\n"
      ]
    },
    {
      "cell_type": "markdown",
      "metadata": {},
      "source": [
        "#### How to Insert Multiple Records\n",
        "~~~~sql\n",
        "INSERT INTO Students (name, age, email)\n",
        "    VALUES\n",
        "      ('Bahadurjit Sabharwal', 18, 'tristanupadhyay@example.net'),\n",
        "      ('Zayyan Arya', 20, 'yashawinibhakta@example.org'),\n",
        "      ('Hemani Shukla', 18, 'gaurikanarula@example.com');\n",
        "~~~~"
      ]
    },
    {
      "cell_type": "markdown",
      "metadata": {},
      "source": [
        "Programmatically: `cursor.executemany()`: This method allows us to insert multiple records at once, making the code more\n",
        "efficient.\n",
        "\n",
        "~~~~python\n",
        "import sqlite3\n",
        "\n",
        "# Use 'with' to open and close the connection automatically\n",
        "with sqlite3.connect('my_database.db') as connection:\n",
        "    cursor = connection.cursor()\n",
        "\n",
        "    # Insert a record into the Students table\n",
        "    query = '''\n",
        "    INSERT INTO Students (name, age, email)\n",
        "    VALUES (?, ?, ?);\n",
        "    '''\n",
        "    values = [\n",
        "        ['Bahadurjit Sabharwal', 18, 'tristanupadhyay@example.net'],\n",
        "        ['Zayyan Arya', 20, 'yashawinibhakta@example.org'],\n",
        "        ['Hemani Shukla', 18, 'gaurikanarula@example.com']\n",
        "    ]\n",
        "    # Execute the query for multiple records\n",
        "    cursor.executemany(query, values)\n",
        "\n",
        "    # Commit the changes\n",
        "    connection.commit()\n",
        "~~~~"
      ]
    },
    {
      "cell_type": "markdown",
      "metadata": {},
      "source": [
        "### How to Handle Common Issues: SQL Injection\n",
        "\n",
        "SQL Injection is a security vulnerability that occurs when attackers manipulate SQL queries by injecting malicious\n",
        "input. This can lead to unauthorized access, data breaches, or even complete database deletion. For example, an attacker\n",
        "might try to inject code like `DROP TABLE Students;` to delete the table.\n",
        "\n",
        "By using parameterized queries, we avoid this issue. The ? placeholders in parameterized queries\n",
        "ensure that input values are treated as data, not as part of the SQL command. This makes it impossible for malicious\n",
        "code to be executed."
      ]
    },
    {
      "cell_type": "markdown",
      "metadata": {},
      "source": [
        "### How to Query Data"
      ]
    },
    {
      "cell_type": "markdown",
      "metadata": {},
      "source": [
        "### Data Types in SQLite and Their Mapping to Python\n",
        "\n",
        "![data_type.png](img/data_type.png)"
      ]
    }
  ],
  "metadata": {
    "colab": {
      "provenance": []
    },
    "kernelspec": {
      "display_name": "Python 3",
      "name": "python3"
    },
    "language_info": {
      "name": "python"
    }
  },
  "nbformat": 4,
  "nbformat_minor": 0
}
