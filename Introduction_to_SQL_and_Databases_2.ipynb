{
  "cells": [
    {
      "cell_type": "markdown",
      "metadata": {},
      "source": [
        "# Introduction to SQL and Databases"
      ]
    },
    {
      "cell_type": "markdown",
      "metadata": {},
      "source": [
        "## Useful Links\n",
        "- https://www.geeksforgeeks.org/what-is-database/\n",
        "- https://www.geeksforgeeks.org/python-sqlite/\n",
        "- https://ugoproto.github.io/ugodoc/introduction_to_sql_joins/\n",
        "- https://www.freecodecamp.org/news/work-with-sqlite-in-python-handbook\n",
        "- SQLite Tutorial https://www.sqlitetutorial.net/"
      ]
    },
    {
      "cell_type": "markdown",
      "metadata": {},
      "source": [
        "## Introduction"
      ]
    },
    {
      "cell_type": "markdown",
      "metadata": {},
      "source": [
        "### Understanding Databases\n",
        "A <em>**database**</em> is an electronically stored, systematic collection of data that can include text, numbers, images, videos, and other types of files. Databases are managed using a software called <em>**Database Management System** (DBMS)</em>, which allows users to store, retrieve, and manipulate data. Databases are the backbone of modern applications, supporting businesses, organizations, and systems across industries. Most of the applications that we use everyday (like WhatsApp, Gmail, Social Media Websites, etc.) have a database that stores user, transaction and all other required information."
      ]
    },
    {
      "cell_type": "markdown",
      "metadata": {},
      "source": [
        "### Key components of a Database\n",
        "- **Data -** The information stored in a database, like numbers, text, images, videos, or documents, depending\n",
        "  on the database’s purpose.\n",
        "- **Schema -** The structure of the database. It defines how data is organized and includes details like tables, columns, data types, and relationships between entities. The schema ensures consistency and helps users understand how the database is designed.\n",
        "- **DBMS **<em>(Database Management System)</em>** -** The software layer that enables interaction with the database. It manages the storage, retrieval, and manipulation of data while ensuring security and data integrity. The DBMS also handles tasks like backup, recovery, and query optimization to maintain the database’s performance. Examples of DBMS software include MySQL, PostgreSQL, Neo4j, and MongoDB.\n",
        "- **Queries -** Commands used to interact with the database, allowing users to retrieve, manipulate, or update\n",
        "  data. In relational databases, **SQL** <em>(Structured Query Language)</em> is commonly used, whereas Neo4j uses **Cypher** for querying graph data.\n",
        "- **Users -** Individuals or applications that interact with the database. They can have different levels of access based on their roles, such as administrators, developers, or end-users. For example, a database administrator might have full control, including the ability to create or delete tables, while a regular user might only have permission to view specific data."
      ]
    },
    {
      "cell_type": "markdown",
      "metadata": {},
      "source": [
        "### Examples of types of Databases\n",
        "[Reference](https://www.datacamp.com/blog/types-of-databases-overview)\n",
        "\n",
        "Different types of databases exist to meet diverse use-case needs, driven by variations in data structure, access patterns, scalability, and consistency requirements. Relational databases are ideal for structured data with predefined schemas, common in traditional business applications. The rise of big data and real-time analytics exposed limitations of relational databases, leading to NoSQL databases, which offer flexibility and scalability for unstructured or semi-structured data. More recently, vector databases have emerged to support machine learning applications by efficiently handling high-dimensional vector data used in similarity searches.\n",
        "\n",
        "- **Relational Databases -** Store data in **structured tables** with rows and columns. Accessing structured data is made most flexible and efficient by relational database technology. Examples: MySQL, PostgreSQL, Oracle, Microsoft SQL Server. (RDBMS)\n",
        "- **NoSQL Databases** <em>(Not Only SQL)</em> **-** Designed to handle unstructured and **semi-structured data**. Examples: MongoDB, Cassandra, DynamoDB. \n",
        "    - **Graph Databases -** Focus on the relationships between data objects. They use **nodes** to represent data entities and **edges** to define relationships between them, enabling efficient traversal and retrieval of complex interconnected data. They excels at handling complex relationships, making them ideal for use cases such as social networks, recommendation systems, and network analysis. Examples: Neo4j, Amazon Neptune, Ultipa.\n",
        "    - **Vector Databases -** Designed to store, index, and manage vector **embeddings**, which are high-dimensional data representations often used in machine learning models. These db enables fast similarity search, allowing efficient identification of vectors that are \"close\" to a given query vector using distance metrics like cosine similarity or Euclidean distance. This makes them suitable for tasks as image recognition, recommendation systems, and natural language processing. They utilize indexing structures that optimize the retrieval of similar vectors based on distance metrics. Examples: Faiss, Milvus, Qdrant, chroma."
      ]
    },
    {
      "cell_type": "markdown",
      "metadata": {},
      "source": [
        "### Structured query language (SQL)\n",
        "To interact with relational databases, we use <em>**Structured Query Language** (SQL)</em>. This powerful language enables us to query, insert, update, and delete data, as well as perform complex operations like joining data from multiple tables. SQL's structured nature ensures data integrity and consistency through **ACID** properties:\n",
        "- **Atomicity -** All operations within a transaction are treated as a single unit, ensuring that either all changes are committed or none are.\n",
        "- **Consistency -** Data remains in a valid state throughout a transaction, adhering to predefined constraints and rules.\n",
        "- **Isolation -** Transactions are executed independently as if they were the only operation happening on the database.\n",
        "- **Durability -** Once a transaction is committed, its changes are permanent, even in the event of system failures.\n",
        "\n",
        "#### What’s the difference between an ACID and a BASE database? \n",
        "\n",
        "[Reference](https://aws.amazon.com/compare/the-difference-between-acid-and-base-database/?nc1=h_ls)\n",
        "\n",
        "**ACID** and **BASE** are database transaction models that determine how a database organizes and manipulates data. In the context of databases, a **transaction** is any operation that the database considers a single unit of work. A transaction must complete fully for the database to remain consistent. For example, when you transfer money from one bank account to another, the money must leave your account and must be added to the third-party account. You cannot call the transaction complete without both steps occurring. \n",
        "\n",
        "**ACID** databases prioritize consistency over availability—the whole transaction fails if an error occurs in any step within the transaction. In contrast, **BASE** databases prioritize availability over consistency. Instead of failing the transaction, users can access inconsistent data temporarily. Data consistency is achieved, but not immediately. Examples of **ACID** databases are MySQL, PostgreSQL, Neo4j and MongoDB, wherease of **BASE** Elasticsearch.\n"
      ]
    },
    {
      "cell_type": "markdown",
      "metadata": {},
      "source": [
        "## Hands on SQLite\n",
        "\n",
        "A SQL database, also known as a relational database, is a system that stores and organizes data into highly structured\n",
        "tables of rows and columns. These databases offer Structured Query Language (SQL) to read and write the data, and are\n",
        "categorized as relational database management systems (RDBMS). Examples of relational database are MySQL, PostgreSQL."
      ]
    },
    {
      "cell_type": "markdown",
      "metadata": {},
      "source": [
        "### SQLite\n",
        "[Reference](https://en.wikipedia.org/wiki/SQLite)\n",
        "**SQLite** is a free and open-source relational database engine written in the C programming language. It is not a standalone app; rather, it is a library that software developers embed in their apps. It is used by several of the top web browsers, operating systems, mobile phones, and other embedded systems.\n",
        "\n",
        "Why Use SQLite to start? \n",
        "- **Open-source** software, it does not require any license after installation.\n",
        "- **Serverless**, it doesn't need a different server process or system to operate.\n",
        "- **Cross-platform** DBMS that can run on all platforms, including macOS, Windows, etc."
      ]
    },
    {
      "cell_type": "markdown",
      "metadata": {},
      "source": [
        "### How to Create Database Tables\n",
        "A table is where we’ll store our data, organized in rows (records) and columns (attributes). For this example, we’ll\n",
        "create a table called `Students` to store information about students.\n",
        "\n",
        "To create a table, we use SQL's `CREATE TABLE` statement. This command defines the table structure, including the column\n",
        "names and the data types for each column.\n",
        "\n",
        "SQL command to create a `Students` table with the following fields:\n",
        "- `id`: A unique identifier for each student (an integer).\n",
        "- `name`: The student's name (text).\n",
        "- `age`: The student's age (an integer).\n",
        "- `email`: The student's email address (text).\n",
        "\n",
        "Column `id` rapresents a `PRIMARY KEY` for the table `Student`. The `PRIMARY KEY` constraint uniquely identifies each record in a table. A table can have only ONE primary key; and in the table, this primary key can consist of single or multiple columns (fields).\n",
        "\n",
        "```sql\n",
        "CREATE TABLE Students (\n",
        "  id INTEGER PRIMARY KEY AUTOINCREMENT,\n",
        "  name TEXT NOT NULL,\n",
        "  age INTEGER,\n",
        "  email TEXT\n",
        ");\n",
        "```\n",
        "To prevent errors when a table already exists, `IF NOT EXISTS` ensures that it is only created if it hasn’t been defined\n",
        "before.\n",
        "\n",
        "~~~~sql\n",
        "CREATE TABLE IF NOT EXISTS Students (\n",
        "  id INTEGER PRIMARY KEY AUTOINCREMENT,\n",
        "  name TEXT NOT NULL,\n",
        "  age INTEGER,\n",
        "  email TEXT\n",
        ");\n",
        "~~~~\n"
      ]
    },
    {
      "cell_type": "markdown",
      "metadata": {},
      "source": [
        "### How to Insert Data into a Table\n",
        "Now that we have our `Students` table created, it’s time to start inserting data into the database."
      ]
    },
    {
      "cell_type": "markdown",
      "metadata": {},
      "source": [
        "#### How to Insert a Single Record\n",
        "\n",
        "SQL syntax for inserting a single record:\n",
        "\n",
        "~~~~sql\n",
        "INSERT INTO Students (name, age, email)\n",
        "VALUES ('John Doe', 20, 'johndoe@example.com');\n",
        "~~~~\n",
        "\n",
        "**To do:** Insert the record representing yourself"
      ]
    },
    {
      "cell_type": "markdown",
      "metadata": {},
      "source": [
        "#### How to Insert Multiple Records\n",
        "\n",
        "SQL syntax for inserting multiple records:\n",
        "\n",
        "~~~~sql\n",
        "INSERT INTO Student (name, age, email)\n",
        "    VALUES\n",
        "      ('Bahadurjit Sabharwal', 18, 'tristanupadhyay@example.net'),\n",
        "      ('Zayyan Arya', 20, 'yashawinibhakta@example.org'),\n",
        "      ('Hemani Shukla', 18, 'gaurikanarula@example.com');\n",
        "~~~~\n",
        "\n",
        "**To do:** Insert records representing a couple of your colleagues"
      ]
    },
    {
      "cell_type": "markdown",
      "metadata": {},
      "source": [
        "### How to Update Data in a Table\n",
        "\n",
        "To update existing data in a table, you use SQLite `UPDATE` statement. \n",
        "\n",
        "```sql\n",
        "UPDATE Student\n",
        "SET email = 'johndoe@exampleupdate.com'\n",
        "WHERE\n",
        "    name LIKE 'John Doe';\n",
        "```\n",
        "\n",
        "In this syntax:\n",
        "- First, specify the table where you want to update after the `UPDATE` clause.\n",
        "- Second, set new value for each column of the table in the `SET` clause.\n",
        "- Third, specify rows to update using a condition in the `WHERE` clause. The `WHERE` clause is optional. If you skip it, the `UPDATE` statement will update data in all rows of the table.\n",
        "\n",
        "**To do:** Update the records representing yourself"
      ]
    },
    {
      "cell_type": "markdown",
      "metadata": {},
      "source": [
        "### How to Delete Data from a Table\n",
        "\n",
        "The SQLite `DELETE` statement allows you to delete one row, multiple rows, and all rows in a table.\n",
        "\n",
        "```sql\n",
        "DELETE FROM Student\n",
        "WHERE name LIKE 'John Doe';\n",
        "```\n",
        "\n",
        "In this syntax:\n",
        "- First, specify the name of the table which you want to remove rows after the `DELETE FROM` keywords.\n",
        "- Second, add a search condition in the `WHERE` clause to identify the rows to remove. The `WHERE` clause is an optional part of the `DELETE` statement. If you omit the `WHERE` clause, the `DELETE` statement will delete all rows in the table.\n",
        "\n",
        "**To do:** Delete the records representing yourself"
      ]
    },
    {
      "cell_type": "markdown",
      "metadata": {},
      "source": [
        "### How to Drop Database Tables\n",
        "\n",
        "To remove a table in a database, you use SQL `DROP TABLE` statement. \n",
        "\n",
        "```sql\n",
        "DROP TABLE Student;\n",
        "```\n",
        "If you remove a non-existing table, SQLite issues an error. If you use `IF EXISTS` option, then SQLite removes the table only if the table exists, otherwise, it just ignores the statement and does nothing.\n",
        "\n",
        "~~~~sql\n",
        "DROP TABLE IF EXISTS Student;\n",
        "~~~~\n",
        "\n",
        "The `DROP TABLE` statement performs an implicit `DELETE` statement before dropping the table.\n",
        "\n",
        "**To do:** Drop Student table"
      ]
    },
    {
      "cell_type": "markdown",
      "metadata": {},
      "source": [
        "## Hands on SQLite with Python"
      ]
    },
    {
      "cell_type": "markdown",
      "metadata": {},
      "source": [
        "### How to Create Database Tables\n"
      ]
    },
    {
      "cell_type": "code",
      "execution_count": null,
      "metadata": {},
      "outputs": [
        {
          "name": "stdout",
          "output_type": "stream",
          "text": [
            "The sql extension is already loaded. To reload it, use:\n",
            "  %reload_ext sql\n"
          ]
        }
      ],
      "source": [
        "%load_ext sql"
      ]
    },
    {
      "cell_type": "code",
      "execution_count": null,
      "metadata": {
        "id": "J4S6ZoLBvLlN"
      },
      "outputs": [],
      "source": [
        "%%sql\n",
        "sqlite:///test.db"
      ]
    },
    {
      "cell_type": "code",
      "execution_count": null,
      "metadata": {
        "colab": {
          "base_uri": "https://localhost:8080/"
        },
        "id": "uR_5RjEFvUVI",
        "outputId": "7bb0f76d-bd39-4f6c-b2f8-655a218d8f2f"
      },
      "outputs": [
        {
          "name": "stdout",
          "output_type": "stream",
          "text": [
            " * sqlite:///test.db\n",
            "(sqlite3.OperationalError) table sample already exists\n",
            "[SQL: create table sample(column_1 int, column_2 varchar);]\n",
            "(Background on this error at: https://sqlalche.me/e/20/e3q8)\n"
          ]
        }
      ],
      "source": [
        "%%sql\n",
        "create table sample(column_1 int, column_2 varchar);\n"
      ]
    },
    {
      "cell_type": "code",
      "execution_count": null,
      "metadata": {
        "colab": {
          "base_uri": "https://localhost:8080/"
        },
        "id": "-6Qb0-HAvbFH",
        "outputId": "82aca1c8-6d00-40b3-b1cb-33027c7c0363"
      },
      "outputs": [
        {
          "name": "stdout",
          "output_type": "stream",
          "text": [
            " * sqlite:///test.db\n",
            "2 rows affected.\n"
          ]
        },
        {
          "data": {
            "text/plain": [
              "[]"
            ]
          },
          "execution_count": 21,
          "metadata": {},
          "output_type": "execute_result"
        }
      ],
      "source": [
        "%%sql\n",
        "insert into sample values (1,'abc'),(2,'abcd');"
      ]
    },
    {
      "cell_type": "code",
      "execution_count": null,
      "metadata": {
        "colab": {
          "base_uri": "https://localhost:8080/"
        },
        "id": "CiQXLRFhve91",
        "outputId": "4a76fdd1-d8af-4f5f-ef13-e92dd7b272ae"
      },
      "outputs": [
        {
          "name": "stdout",
          "output_type": "stream",
          "text": [
            "Requirement already satisfied: prettytable in /usr/local/lib/python3.11/dist-packages (3.15.1)\n",
            "Requirement already satisfied: wcwidth in /usr/local/lib/python3.11/dist-packages (from prettytable) (0.2.13)\n"
          ]
        }
      ],
      "source": [
        "!pip install prettytable\n",
        "\n"
      ]
    },
    {
      "cell_type": "code",
      "execution_count": null,
      "metadata": {
        "id": "R6o67FHuwCOg"
      },
      "outputs": [],
      "source": [
        "%config SqlMagic.style = '_DEPRECATED_DEFAULT'"
      ]
    },
    {
      "cell_type": "code",
      "execution_count": null,
      "metadata": {},
      "outputs": [
        {
          "name": "stdout",
          "output_type": "stream",
          "text": [
            " * sqlite:///test.db\n",
            "Done.\n"
          ]
        },
        {
          "data": {
            "text/html": [
              "<table>\n",
              "    <thead>\n",
              "        <tr>\n",
              "            <th>column_1</th>\n",
              "            <th>column_2</th>\n",
              "        </tr>\n",
              "    </thead>\n",
              "    <tbody>\n",
              "        <tr>\n",
              "            <td>1</td>\n",
              "            <td>abc</td>\n",
              "        </tr>\n",
              "        <tr>\n",
              "            <td>2</td>\n",
              "            <td>abcd</td>\n",
              "        </tr>\n",
              "        <tr>\n",
              "            <td>1</td>\n",
              "            <td>abc</td>\n",
              "        </tr>\n",
              "        <tr>\n",
              "            <td>2</td>\n",
              "            <td>abcd</td>\n",
              "        </tr>\n",
              "        <tr>\n",
              "            <td>1</td>\n",
              "            <td>abc</td>\n",
              "        </tr>\n",
              "        <tr>\n",
              "            <td>2</td>\n",
              "            <td>abcd</td>\n",
              "        </tr>\n",
              "    </tbody>\n",
              "</table>"
            ],
            "text/plain": [
              "[(1, 'abc'), (2, 'abcd'), (1, 'abc'), (2, 'abcd'), (1, 'abc'), (2, 'abcd')]"
            ]
          },
          "execution_count": 24,
          "metadata": {},
          "output_type": "execute_result"
        }
      ],
      "source": [
        "%%sql\n",
        "select * from sample;"
      ]
    },
    {
      "cell_type": "markdown",
      "metadata": {},
      "source": [
        "### How to Insert Data into a Table\n",
        "Now that we have our Students table created, it’s time to start inserting data into the database.\n"
      ]
    },
    {
      "cell_type": "markdown",
      "metadata": {},
      "source": [
        "#### How to Insert a Single Record\n",
        "\n",
        "SQL syntax for inserting a single record:\n",
        "\n",
        "~~~~sql\n",
        "INSERT INTO Students (name, age, email)\n",
        "VALUES ('John Doe', 20, 'johndoe@example.com');\n",
        "~~~~\n"
      ]
    },
    {
      "cell_type": "markdown",
      "metadata": {},
      "source": [
        "Programmatically\n",
        "\n",
        "~~~~python\n",
        "import sqlite3\n",
        "\n",
        "# Use 'with' to open and close the connection automatically\n",
        "with sqlite3.connect('my_database.db') as connection:\n",
        "    cursor = connection.cursor()\n",
        "\n",
        "    # Insert a record into the Students table\n",
        "    query = \"\"\"\n",
        "        INSERT INTO Students (name, age, email)\n",
        "        VALUES (?, ?, ?);\n",
        "    \"\"\"\n",
        "\n",
        "    value = ('Jane Doe', 23, 'jane@example.com')\n",
        "\n",
        "    cursor.execute(query, value)\n",
        "\n",
        "    # Commit the changes automatically\n",
        "    connection.commit()\n",
        "~~~~\n",
        "The ? placeholders represent the values to be inserted into the table.\n"
      ]
    },
    {
      "cell_type": "markdown",
      "metadata": {},
      "source": [
        "#### How to Insert Multiple Records\n",
        "~~~~sql\n",
        "INSERT INTO Students (name, age, email)\n",
        "    VALUES\n",
        "      ('Bahadurjit Sabharwal', 18, 'tristanupadhyay@example.net'),\n",
        "      ('Zayyan Arya', 20, 'yashawinibhakta@example.org'),\n",
        "      ('Hemani Shukla', 18, 'gaurikanarula@example.com');\n",
        "~~~~"
      ]
    },
    {
      "cell_type": "markdown",
      "metadata": {},
      "source": [
        "Programmatically: `cursor.executemany()`: This method allows us to insert multiple records at once, making the code more\n",
        "efficient.\n",
        "\n",
        "~~~~python\n",
        "import sqlite3\n",
        "\n",
        "# Use 'with' to open and close the connection automatically\n",
        "with sqlite3.connect('my_database.db') as connection:\n",
        "    cursor = connection.cursor()\n",
        "\n",
        "    # Insert a record into the Students table\n",
        "    query = '''\n",
        "    INSERT INTO Students (name, age, email)\n",
        "    VALUES (?, ?, ?);\n",
        "    '''\n",
        "    values = [\n",
        "        ['Bahadurjit Sabharwal', 18, 'tristanupadhyay@example.net'],\n",
        "        ['Zayyan Arya', 20, 'yashawinibhakta@example.org'],\n",
        "        ['Hemani Shukla', 18, 'gaurikanarula@example.com']\n",
        "    ]\n",
        "    # Execute the query for multiple records\n",
        "    cursor.executemany(query, values)\n",
        "\n",
        "    # Commit the changes\n",
        "    connection.commit()\n",
        "~~~~"
      ]
    },
    {
      "cell_type": "code",
      "execution_count": null,
      "metadata": {},
      "outputs": [],
      "source": []
    },
    {
      "cell_type": "code",
      "execution_count": null,
      "metadata": {},
      "outputs": [],
      "source": []
    },
    {
      "cell_type": "markdown",
      "metadata": {},
      "source": [
        "### How to Handle Common Issues: SQL Injection\n",
        "\n",
        "SQL Injection is a security vulnerability that occurs when attackers manipulate SQL queries by injecting malicious\n",
        "input. This can lead to unauthorized access, data breaches, or even complete database deletion. For example, an attacker\n",
        "might try to inject code like `DROP TABLE Students;` to delete the table.\n",
        "\n",
        "By using parameterized queries, we avoid this issue. The ? placeholders in parameterized queries\n",
        "ensure that input values are treated as data, not as part of the SQL command. This makes it impossible for malicious\n",
        "code to be executed."
      ]
    },
    {
      "cell_type": "markdown",
      "metadata": {},
      "source": [
        "### How to Query Data"
      ]
    },
    {
      "cell_type": "markdown",
      "metadata": {},
      "source": [
        "### Data Types in SQLite and Their Mapping to Python\n",
        "\n",
        "![data_type.png](img/data_type.png)"
      ]
    },
    {
      "cell_type": "markdown",
      "metadata": {},
      "source": [
        "### SQL JOIN\n",
        "\n",
        "![img.png](img/img.png)"
      ]
    },
    {
      "cell_type": "markdown",
      "metadata": {},
      "source": []
    },
    {
      "cell_type": "markdown",
      "metadata": {
        "id": "reLVd77mnDG7"
      },
      "source": []
    },
    {
      "cell_type": "code",
      "execution_count": null,
      "metadata": {
        "id": "tmi7zaevnHf_"
      },
      "outputs": [],
      "source": []
    },
    {
      "cell_type": "code",
      "execution_count": null,
      "metadata": {
        "id": "1IXoc8KynHvy"
      },
      "outputs": [],
      "source": []
    }
  ],
  "metadata": {
    "colab": {
      "provenance": []
    },
    "kernelspec": {
      "display_name": "Python 3",
      "name": "python3"
    },
    "language_info": {
      "name": "python"
    }
  },
  "nbformat": 4,
  "nbformat_minor": 0
}
